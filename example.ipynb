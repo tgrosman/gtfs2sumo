{
 "cells": [
  {
   "cell_type": "code",
   "execution_count": null,
   "metadata": {},
   "outputs": [],
   "source": [
    "from convert_gtfs2sumo import GTFS2SUMO\n",
    "from lib import gtfs2sumo"
   ]
  },
  {
   "cell_type": "code",
   "execution_count": null,
   "metadata": {},
   "outputs": [],
   "source": [
    "gtfs =  GTFS2SUMO(net_file_path='path/to/your/network', \n",
    "                    gtfs_data_path='path/to/your/gtfs/dataset', gtfs_date=\"YYYYMMDD\",\n",
    "                        create_maps=True, verbose=True)"
   ]
  },
  {
   "cell_type": "code",
   "execution_count": null,
   "metadata": {},
   "outputs": [],
   "source": [
    "gtfs.extract_sumo_traffic()"
   ]
  },
  {
   "cell_type": "code",
   "execution_count": null,
   "metadata": {},
   "outputs": [],
   "source": [
    "completeness_dict = gtfs.get_completeness_dict()\n",
    "gtfs2sumo.generate_completeness_histogram(completeness_dict.keys(), completeness_dict, display_flag=True, path='./out/completeness_histogram.pdf', plot_title='Completeness Histogram')"
   ]
  }
 ],
 "metadata": {
  "kernelspec": {
   "display_name": "final_repo_test",
   "language": "python",
   "name": "python3"
  },
  "language_info": {
   "codemirror_mode": {
    "name": "ipython",
    "version": 3
   },
   "file_extension": ".py",
   "mimetype": "text/x-python",
   "name": "python",
   "nbconvert_exporter": "python",
   "pygments_lexer": "ipython3",
   "version": "3.11.10"
  }
 },
 "nbformat": 4,
 "nbformat_minor": 2
}
